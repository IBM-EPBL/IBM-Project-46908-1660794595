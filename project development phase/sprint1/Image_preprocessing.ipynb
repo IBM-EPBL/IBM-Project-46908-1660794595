{
  "nbformat": 4,
  "nbformat_minor": 0,
  "metadata": {
    "colab": {
      "provenance": []
    },
    "kernelspec": {
      "name": "python3",
      "display_name": "Python 3"
    },
    "language_info": {
      "name": "python"
    }
  },
  "cells": [
    {
      "cell_type": "code",
      "execution_count": 1,
      "metadata": {
        "id": "XjmaZQNKxxfu"
      },
      "outputs": [],
      "source": [
        "from keras.preprocessing.image import ImageDataGenerator \n",
        "train_datagen = ImageDataGenerator(rescale = 1./255, shear_range= 0.2,zoom_range= 0.2, horizontal_flip = True) \n",
        "test_datagen =ImageDataGenerator(rescale=1)\n"
      ]
    },
    {
      "cell_type": "code",
      "source": [
        "x_train = train_datagen.flow_from_directory(r'C:\\Users\\mrith\\Desktop\\dataset\\train',target_size = (64,64), batch_size = 32, class_mode ='categorical')\n",
        "x_test = test_datagen.flow_from_directory(r'C:\\Users\\mrith\\Desktop\\dataset\\test',target_size = (64,64), batch_size = 32, class_mode ='categorical')"
      ],
      "metadata": {
        "id": "LMvYuS7-yLfZ"
      },
      "execution_count": null,
      "outputs": []
    }
  ]
}
